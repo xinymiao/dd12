{
    "cells": [
        {
            "cell_type": "markdown",
            "metadata": {
                "collapsed": true
            },
            "source": "# Part 1 (Problem):\n\n### Where in Rio de Janeiro would it be best to open a restaurant. What is the place that has the most reviews, what location seems to be the most popular. Is there a type of restaurant that is more popular than another? \n\n### The problem will be solved using the Foursquare API, looking at the usercount and tipcount. This problem will help everyone that wants to open up a restaurant in Rio de Janeiro and wants to know if it is a viable option where they intend on opening."
        },
        {
            "cell_type": "markdown",
            "metadata": {},
            "source": "# Part 2 (Data):\n### The data that will be used is Foursquare data for Rio de Janeiro city. It will focus on venues of restaurant type. The popularity will be an indicator for how good an area is for a restaurant.\n"
        },
        {
            "cell_type": "code",
            "execution_count": 1,
            "metadata": {},
            "outputs": [
                {
                    "ename": "ModuleNotFoundError",
                    "evalue": "No module named 'folium'",
                    "output_type": "error",
                    "traceback": [
                        "\u001b[0;31m---------------------------------------------------------------------------\u001b[0m",
                        "\u001b[0;31mModuleNotFoundError\u001b[0m                       Traceback (most recent call last)",
                        "\u001b[0;32m<ipython-input-1-3a9c5a0811ae>\u001b[0m in \u001b[0;36m<module>\u001b[0;34m\u001b[0m\n\u001b[1;32m     21\u001b[0m \u001b[0;34m\u001b[0m\u001b[0m\n\u001b[1;32m     22\u001b[0m \u001b[0;31m#!conda install -c conda-forge folium=0.5.0 --yes # uncomment this line if you haven't completed the Foursquare API lab\u001b[0m\u001b[0;34m\u001b[0m\u001b[0;34m\u001b[0m\u001b[0;34m\u001b[0m\u001b[0m\n\u001b[0;32m---> 23\u001b[0;31m \u001b[0;32mimport\u001b[0m \u001b[0mfolium\u001b[0m \u001b[0;31m# map rendering library\u001b[0m\u001b[0;34m\u001b[0m\u001b[0;34m\u001b[0m\u001b[0m\n\u001b[0m\u001b[1;32m     24\u001b[0m \u001b[0;34m\u001b[0m\u001b[0m\n\u001b[1;32m     25\u001b[0m \u001b[0mprint\u001b[0m\u001b[0;34m(\u001b[0m\u001b[0;34m'Libraries imported.'\u001b[0m\u001b[0;34m)\u001b[0m\u001b[0;34m\u001b[0m\u001b[0;34m\u001b[0m\u001b[0m\n",
                        "\u001b[0;31mModuleNotFoundError\u001b[0m: No module named 'folium'"
                    ]
                }
            ],
            "source": "import numpy as np # library to handle data in a vectorized manner\n\nimport pandas as pd # library for data analsysis\npd.set_option('display.max_columns', None)\npd.set_option('display.max_rows', None)\n\nimport json # library to handle JSON files\n\n#!conda install -c conda-forge geopy --yes # uncomment this line if you haven't completed the Foursquare API lab\nfrom geopy.geocoders import Nominatim # convert an address into latitude and longitude values\n\nimport requests # library to handle requests\nfrom pandas.io.json import json_normalize # tranform JSON file into a pandas dataframe\n\n# Matplotlib and associated plotting modules\nimport matplotlib.cm as cm\nimport matplotlib.colors as colors\n\n# import k-means from clustering stage\nfrom sklearn.cluster import KMeans\n\n#!conda install -c conda-forge folium=0.5.0 --yes # uncomment this line if you haven't completed the Foursquare API lab\nimport folium # map rendering library\n\nprint('Libraries imported.')"
        },
        {
            "cell_type": "code",
            "execution_count": 2,
            "metadata": {},
            "outputs": [
                {
                    "name": "stdout",
                    "output_type": "stream",
                    "text": "The geograpical coordinate of Rio de Janeiro is -22.9110137, -43.2093727.\n"
                }
            ],
            "source": "# Get longitude and latitude for Toronto\naddress = 'Rio de Janeiro, Rio de Janeiro'\n\ngeolocator = Nominatim(user_agent=\"rio_explorer\")\nlocation = geolocator.geocode(address)\nlatitude = location.latitude\nlongitude = location.longitude\nprint('The geograpical coordinate of Rio de Janeiro is {}, {}.'.format(latitude, longitude))"
        },
        {
            "cell_type": "code",
            "execution_count": 3,
            "metadata": {},
            "outputs": [
                {
                    "name": "stdout",
                    "output_type": "stream",
                    "text": "Your credentails:\nCLIENT_ID: XBVDVFI3BB3LBMSPWBVCYUDG0AGUZRQP1MFUXOS0SKACIAGK\nCLIENT_SECRET:HD34GAYDCO0GOUM1Z3NFCY4JH4FO0V5F4FMOLO4CEDSZO5AV\n"
                }
            ],
            "source": "# Set up Foursquare\nCLIENT_ID = 'XBVDVFI3BB3LBMSPWBVCYUDG0AGUZRQP1MFUXOS0SKACIAGK' # your Foursquare ID\nCLIENT_SECRET = 'HD34GAYDCO0GOUM1Z3NFCY4JH4FO0V5F4FMOLO4CEDSZO5AV' # your Foursquare Secret\nVERSION = '20180605' # Foursquare API version\nLIMIT = 100\nprint('Your credentails:')\nprint('CLIENT_ID: ' + CLIENT_ID)\nprint('CLIENT_SECRET:' + CLIENT_SECRET)"
        },
        {
            "cell_type": "code",
            "execution_count": 4,
            "metadata": {},
            "outputs": [
                {
                    "name": "stdout",
                    "output_type": "stream",
                    "text": "Restaurant .... OK!\n"
                }
            ],
            "source": "search_query = 'Restaurant'\nradius = 50000\nprint(search_query + ' .... OK!')"
        },
        {
            "cell_type": "code",
            "execution_count": 5,
            "metadata": {},
            "outputs": [
                {
                    "data": {
                        "text/plain": "'https://api.foursquare.com/v2/venues/search?client_id=XBVDVFI3BB3LBMSPWBVCYUDG0AGUZRQP1MFUXOS0SKACIAGK&client_secret=HD34GAYDCO0GOUM1Z3NFCY4JH4FO0V5F4FMOLO4CEDSZO5AV&ll=-22.9110137,-43.2093727&v=20180605&query=Restaurant&radius=50000&limit=100'"
                    },
                    "execution_count": 5,
                    "metadata": {},
                    "output_type": "execute_result"
                }
            ],
            "source": "url = 'https://api.foursquare.com/v2/venues/search?client_id={}&client_secret={}&ll={},{}&v={}&query={}&radius={}&limit={}'.format(CLIENT_ID, CLIENT_SECRET, latitude, longitude, VERSION, search_query, radius, LIMIT)\nurl"
        },
        {
            "cell_type": "code",
            "execution_count": 7,
            "metadata": {},
            "outputs": [],
            "source": "results = requests.get(url).json()"
        },
        {
            "cell_type": "code",
            "execution_count": 8,
            "metadata": {},
            "outputs": [
                {
                    "data": {
                        "text/html": "<div>\n<style scoped>\n    .dataframe tbody tr th:only-of-type {\n        vertical-align: middle;\n    }\n\n    .dataframe tbody tr th {\n        vertical-align: top;\n    }\n\n    .dataframe thead th {\n        text-align: right;\n    }\n</style>\n<table border=\"1\" class=\"dataframe\">\n  <thead>\n    <tr style=\"text-align: right;\">\n      <th></th>\n      <th>categories</th>\n      <th>hasPerk</th>\n      <th>id</th>\n      <th>location.address</th>\n      <th>location.cc</th>\n      <th>location.city</th>\n      <th>location.country</th>\n      <th>location.crossStreet</th>\n      <th>location.distance</th>\n      <th>location.formattedAddress</th>\n      <th>location.labeledLatLngs</th>\n      <th>location.lat</th>\n      <th>location.lng</th>\n      <th>location.postalCode</th>\n      <th>location.state</th>\n      <th>name</th>\n      <th>referralId</th>\n    </tr>\n  </thead>\n  <tbody>\n    <tr>\n      <th>0</th>\n      <td>[{'id': '52e81612bcbc57f1066b79f1', 'name': 'B...</td>\n      <td>False</td>\n      <td>56e04e1d38fa3ae11155b863</td>\n      <td>Rua Riachuelo, 242</td>\n      <td>BR</td>\n      <td>Rio de Janeiro</td>\n      <td>Brasil</td>\n      <td>NaN</td>\n      <td>2146</td>\n      <td>[Rua Riachuelo, 242, Rio de Janeiro, RJ, Brasil]</td>\n      <td>[{'label': 'display', 'lat': -22.914733, 'lng'...</td>\n      <td>-22.914733</td>\n      <td>-43.188829</td>\n      <td>NaN</td>\n      <td>RJ</td>\n      <td>Ri\u00e1 Restaurant</td>\n      <td>v-1592784928</td>\n    </tr>\n    <tr>\n      <th>1</th>\n      <td>[{'id': '4bf58dd8d48988d16b941735', 'name': 'B...</td>\n      <td>False</td>\n      <td>4ece6782cc219860f521dd5d</td>\n      <td>NaN</td>\n      <td>BR</td>\n      <td>Rio de Janeiro</td>\n      <td>Brasil</td>\n      <td>NaN</td>\n      <td>1828</td>\n      <td>[Rio de Janeiro, RJ, Brasil]</td>\n      <td>[{'label': 'display', 'lat': -22.9097338088607...</td>\n      <td>-22.909734</td>\n      <td>-43.191598</td>\n      <td>NaN</td>\n      <td>RJ</td>\n      <td>Restaurante Pitada</td>\n      <td>v-1592784928</td>\n    </tr>\n    <tr>\n      <th>2</th>\n      <td>[{'id': '4bf58dd8d48988d1c4941735', 'name': 'R...</td>\n      <td>False</td>\n      <td>50e0b634e4b0f94bd8a38f47</td>\n      <td>Navio Soberano</td>\n      <td>BR</td>\n      <td>Rio de Janeiro</td>\n      <td>Brasil</td>\n      <td>NaN</td>\n      <td>2849</td>\n      <td>[Navio Soberano, Rio de Janeiro, RJ, Brasil]</td>\n      <td>[{'label': 'display', 'lat': -22.8928508209919...</td>\n      <td>-22.892851</td>\n      <td>-43.189795</td>\n      <td>NaN</td>\n      <td>RJ</td>\n      <td>Restaurant El Duero</td>\n      <td>v-1592784928</td>\n    </tr>\n    <tr>\n      <th>3</th>\n      <td>[{'id': '4bf58dd8d48988d1c4941735', 'name': 'R...</td>\n      <td>False</td>\n      <td>4e0209e4b0fbdf39a4592821</td>\n      <td>Silva paulet esquina com costa barros</td>\n      <td>BR</td>\n      <td>Fortaleza</td>\n      <td>Brasil</td>\n      <td>Aldeota</td>\n      <td>431</td>\n      <td>[Silva paulet esquina com costa barros (Aldeot...</td>\n      <td>[{'label': 'display', 'lat': -22.9148909, 'lng...</td>\n      <td>-22.914891</td>\n      <td>-43.209306</td>\n      <td>NaN</td>\n      <td>Ce</td>\n      <td>Restaurante Braga</td>\n      <td>v-1592784928</td>\n    </tr>\n    <tr>\n      <th>4</th>\n      <td>[{'id': '52e81612bcbc57f1066b7a00', 'name': 'C...</td>\n      <td>False</td>\n      <td>54fc90bc498e67112301efff</td>\n      <td>Travessa Angustura</td>\n      <td>BR</td>\n      <td>Rio de Janeiro</td>\n      <td>Brasil</td>\n      <td>Rua do Matoso</td>\n      <td>500</td>\n      <td>[Travessa Angustura (Rua do Matoso), Rio de Ja...</td>\n      <td>[{'label': 'display', 'lat': -22.9138483642793...</td>\n      <td>-22.913848</td>\n      <td>-43.213167</td>\n      <td>NaN</td>\n      <td>RJ</td>\n      <td>Restaurante Drink's</td>\n      <td>v-1592784928</td>\n    </tr>\n  </tbody>\n</table>\n</div>",
                        "text/plain": "                                          categories  hasPerk  \\\n0  [{'id': '52e81612bcbc57f1066b79f1', 'name': 'B...    False   \n1  [{'id': '4bf58dd8d48988d16b941735', 'name': 'B...    False   \n2  [{'id': '4bf58dd8d48988d1c4941735', 'name': 'R...    False   \n3  [{'id': '4bf58dd8d48988d1c4941735', 'name': 'R...    False   \n4  [{'id': '52e81612bcbc57f1066b7a00', 'name': 'C...    False   \n\n                         id                       location.address  \\\n0  56e04e1d38fa3ae11155b863                     Rua Riachuelo, 242   \n1  4ece6782cc219860f521dd5d                                    NaN   \n2  50e0b634e4b0f94bd8a38f47                         Navio Soberano   \n3  4e0209e4b0fbdf39a4592821  Silva paulet esquina com costa barros   \n4  54fc90bc498e67112301efff                     Travessa Angustura   \n\n  location.cc   location.city location.country location.crossStreet  \\\n0          BR  Rio de Janeiro           Brasil                  NaN   \n1          BR  Rio de Janeiro           Brasil                  NaN   \n2          BR  Rio de Janeiro           Brasil                  NaN   \n3          BR       Fortaleza           Brasil              Aldeota   \n4          BR  Rio de Janeiro           Brasil        Rua do Matoso   \n\n   location.distance                          location.formattedAddress  \\\n0               2146   [Rua Riachuelo, 242, Rio de Janeiro, RJ, Brasil]   \n1               1828                       [Rio de Janeiro, RJ, Brasil]   \n2               2849       [Navio Soberano, Rio de Janeiro, RJ, Brasil]   \n3                431  [Silva paulet esquina com costa barros (Aldeot...   \n4                500  [Travessa Angustura (Rua do Matoso), Rio de Ja...   \n\n                             location.labeledLatLngs  location.lat  \\\n0  [{'label': 'display', 'lat': -22.914733, 'lng'...    -22.914733   \n1  [{'label': 'display', 'lat': -22.9097338088607...    -22.909734   \n2  [{'label': 'display', 'lat': -22.8928508209919...    -22.892851   \n3  [{'label': 'display', 'lat': -22.9148909, 'lng...    -22.914891   \n4  [{'label': 'display', 'lat': -22.9138483642793...    -22.913848   \n\n   location.lng location.postalCode location.state                 name  \\\n0    -43.188829                 NaN             RJ       Ri\u00e1 Restaurant   \n1    -43.191598                 NaN             RJ   Restaurante Pitada   \n2    -43.189795                 NaN             RJ  Restaurant El Duero   \n3    -43.209306                 NaN             Ce    Restaurante Braga   \n4    -43.213167                 NaN             RJ  Restaurante Drink's   \n\n     referralId  \n0  v-1592784928  \n1  v-1592784928  \n2  v-1592784928  \n3  v-1592784928  \n4  v-1592784928  "
                    },
                    "execution_count": 8,
                    "metadata": {},
                    "output_type": "execute_result"
                }
            ],
            "source": "# assign relevant part of JSON to venues\nvenues = results['response']['venues']\n\n# tranform venues into a dataframe\ndataframe = json_normalize(venues)\ndataframe.head()"
        },
        {
            "cell_type": "code",
            "execution_count": 9,
            "metadata": {},
            "outputs": [
                {
                    "data": {
                        "text/html": "<div>\n<style scoped>\n    .dataframe tbody tr th:only-of-type {\n        vertical-align: middle;\n    }\n\n    .dataframe tbody tr th {\n        vertical-align: top;\n    }\n\n    .dataframe thead th {\n        text-align: right;\n    }\n</style>\n<table border=\"1\" class=\"dataframe\">\n  <thead>\n    <tr style=\"text-align: right;\">\n      <th></th>\n      <th>name</th>\n      <th>categories</th>\n      <th>address</th>\n      <th>cc</th>\n      <th>city</th>\n      <th>country</th>\n      <th>crossStreet</th>\n      <th>distance</th>\n      <th>formattedAddress</th>\n      <th>labeledLatLngs</th>\n      <th>lat</th>\n      <th>lng</th>\n      <th>postalCode</th>\n      <th>state</th>\n      <th>id</th>\n    </tr>\n  </thead>\n  <tbody>\n    <tr>\n      <th>0</th>\n      <td>Ri\u00e1 Restaurant</td>\n      <td>Bistro</td>\n      <td>Rua Riachuelo, 242</td>\n      <td>BR</td>\n      <td>Rio de Janeiro</td>\n      <td>Brasil</td>\n      <td>NaN</td>\n      <td>2146</td>\n      <td>[Rua Riachuelo, 242, Rio de Janeiro, RJ, Brasil]</td>\n      <td>[{'label': 'display', 'lat': -22.914733, 'lng'...</td>\n      <td>-22.914733</td>\n      <td>-43.188829</td>\n      <td>NaN</td>\n      <td>RJ</td>\n      <td>56e04e1d38fa3ae11155b863</td>\n    </tr>\n    <tr>\n      <th>1</th>\n      <td>Restaurante Pitada</td>\n      <td>Brazilian Restaurant</td>\n      <td>NaN</td>\n      <td>BR</td>\n      <td>Rio de Janeiro</td>\n      <td>Brasil</td>\n      <td>NaN</td>\n      <td>1828</td>\n      <td>[Rio de Janeiro, RJ, Brasil]</td>\n      <td>[{'label': 'display', 'lat': -22.9097338088607...</td>\n      <td>-22.909734</td>\n      <td>-43.191598</td>\n      <td>NaN</td>\n      <td>RJ</td>\n      <td>4ece6782cc219860f521dd5d</td>\n    </tr>\n    <tr>\n      <th>2</th>\n      <td>Restaurant El Duero</td>\n      <td>Restaurant</td>\n      <td>Navio Soberano</td>\n      <td>BR</td>\n      <td>Rio de Janeiro</td>\n      <td>Brasil</td>\n      <td>NaN</td>\n      <td>2849</td>\n      <td>[Navio Soberano, Rio de Janeiro, RJ, Brasil]</td>\n      <td>[{'label': 'display', 'lat': -22.8928508209919...</td>\n      <td>-22.892851</td>\n      <td>-43.189795</td>\n      <td>NaN</td>\n      <td>RJ</td>\n      <td>50e0b634e4b0f94bd8a38f47</td>\n    </tr>\n    <tr>\n      <th>3</th>\n      <td>Restaurante Braga</td>\n      <td>Restaurant</td>\n      <td>Silva paulet esquina com costa barros</td>\n      <td>BR</td>\n      <td>Fortaleza</td>\n      <td>Brasil</td>\n      <td>Aldeota</td>\n      <td>431</td>\n      <td>[Silva paulet esquina com costa barros (Aldeot...</td>\n      <td>[{'label': 'display', 'lat': -22.9148909, 'lng...</td>\n      <td>-22.914891</td>\n      <td>-43.209306</td>\n      <td>NaN</td>\n      <td>Ce</td>\n      <td>4e0209e4b0fbdf39a4592821</td>\n    </tr>\n    <tr>\n      <th>4</th>\n      <td>Restaurante Drink's</td>\n      <td>Comfort Food Restaurant</td>\n      <td>Travessa Angustura</td>\n      <td>BR</td>\n      <td>Rio de Janeiro</td>\n      <td>Brasil</td>\n      <td>Rua do Matoso</td>\n      <td>500</td>\n      <td>[Travessa Angustura (Rua do Matoso), Rio de Ja...</td>\n      <td>[{'label': 'display', 'lat': -22.9138483642793...</td>\n      <td>-22.913848</td>\n      <td>-43.213167</td>\n      <td>NaN</td>\n      <td>RJ</td>\n      <td>54fc90bc498e67112301efff</td>\n    </tr>\n  </tbody>\n</table>\n</div>",
                        "text/plain": "                  name               categories  \\\n0       Ri\u00e1 Restaurant                   Bistro   \n1   Restaurante Pitada     Brazilian Restaurant   \n2  Restaurant El Duero               Restaurant   \n3    Restaurante Braga               Restaurant   \n4  Restaurante Drink's  Comfort Food Restaurant   \n\n                                 address  cc            city country  \\\n0                     Rua Riachuelo, 242  BR  Rio de Janeiro  Brasil   \n1                                    NaN  BR  Rio de Janeiro  Brasil   \n2                         Navio Soberano  BR  Rio de Janeiro  Brasil   \n3  Silva paulet esquina com costa barros  BR       Fortaleza  Brasil   \n4                     Travessa Angustura  BR  Rio de Janeiro  Brasil   \n\n     crossStreet  distance                                   formattedAddress  \\\n0            NaN      2146   [Rua Riachuelo, 242, Rio de Janeiro, RJ, Brasil]   \n1            NaN      1828                       [Rio de Janeiro, RJ, Brasil]   \n2            NaN      2849       [Navio Soberano, Rio de Janeiro, RJ, Brasil]   \n3        Aldeota       431  [Silva paulet esquina com costa barros (Aldeot...   \n4  Rua do Matoso       500  [Travessa Angustura (Rua do Matoso), Rio de Ja...   \n\n                                      labeledLatLngs        lat        lng  \\\n0  [{'label': 'display', 'lat': -22.914733, 'lng'... -22.914733 -43.188829   \n1  [{'label': 'display', 'lat': -22.9097338088607... -22.909734 -43.191598   \n2  [{'label': 'display', 'lat': -22.8928508209919... -22.892851 -43.189795   \n3  [{'label': 'display', 'lat': -22.9148909, 'lng... -22.914891 -43.209306   \n4  [{'label': 'display', 'lat': -22.9138483642793... -22.913848 -43.213167   \n\n  postalCode state                        id  \n0        NaN    RJ  56e04e1d38fa3ae11155b863  \n1        NaN    RJ  4ece6782cc219860f521dd5d  \n2        NaN    RJ  50e0b634e4b0f94bd8a38f47  \n3        NaN    Ce  4e0209e4b0fbdf39a4592821  \n4        NaN    RJ  54fc90bc498e67112301efff  "
                    },
                    "execution_count": 9,
                    "metadata": {},
                    "output_type": "execute_result"
                }
            ],
            "source": "# keep only columns that include venue name, and anything that is associated with location\nfiltered_columns = ['name', 'categories'] + [col for col in dataframe.columns if col.startswith('location.')] + ['id']\ndataframe_filtered = dataframe.loc[:, filtered_columns]\n\n# function that extracts the category of the venue\ndef get_category_type(row):\n    try:\n        categories_list = row['categories']\n    except:\n        categories_list = row['venue.categories']\n        \n    if len(categories_list) == 0:\n        return None\n    else:\n        return categories_list[0]['name']\n\n# filter the category for each row\ndataframe_filtered['categories'] = dataframe_filtered.apply(get_category_type, axis=1)\n\n# clean column names by keeping only last term\ndataframe_filtered.columns = [column.split('.')[-1] for column in dataframe_filtered.columns]\n\ndataframe_filtered.head()"
        },
        {
            "cell_type": "code",
            "execution_count": 10,
            "metadata": {},
            "outputs": [
                {
                    "ename": "NameError",
                    "evalue": "name 'folium' is not defined",
                    "output_type": "error",
                    "traceback": [
                        "\u001b[0;31m---------------------------------------------------------------------------\u001b[0m",
                        "\u001b[0;31mNameError\u001b[0m                                 Traceback (most recent call last)",
                        "\u001b[0;32m<ipython-input-10-84dd12227b0f>\u001b[0m in \u001b[0;36m<module>\u001b[0;34m\u001b[0m\n\u001b[0;32m----> 1\u001b[0;31m \u001b[0mvenues_map\u001b[0m \u001b[0;34m=\u001b[0m \u001b[0mfolium\u001b[0m\u001b[0;34m.\u001b[0m\u001b[0mMap\u001b[0m\u001b[0;34m(\u001b[0m\u001b[0mlocation\u001b[0m\u001b[0;34m=\u001b[0m\u001b[0;34m[\u001b[0m\u001b[0mlatitude\u001b[0m\u001b[0;34m,\u001b[0m \u001b[0mlongitude\u001b[0m\u001b[0;34m]\u001b[0m\u001b[0;34m,\u001b[0m \u001b[0mzoom_start\u001b[0m\u001b[0;34m=\u001b[0m\u001b[0;36m13\u001b[0m\u001b[0;34m)\u001b[0m \u001b[0;31m# generate map centred around the Conrad Hotel\u001b[0m\u001b[0;34m\u001b[0m\u001b[0;34m\u001b[0m\u001b[0m\n\u001b[0m\u001b[1;32m      2\u001b[0m \u001b[0;34m\u001b[0m\u001b[0m\n\u001b[1;32m      3\u001b[0m \u001b[0;31m# add a red circle marker to represent the Conrad Hotel\u001b[0m\u001b[0;34m\u001b[0m\u001b[0;34m\u001b[0m\u001b[0;34m\u001b[0m\u001b[0m\n\u001b[1;32m      4\u001b[0m folium.features.CircleMarker(\n\u001b[1;32m      5\u001b[0m     \u001b[0;34m[\u001b[0m\u001b[0mlatitude\u001b[0m\u001b[0;34m,\u001b[0m \u001b[0mlongitude\u001b[0m\u001b[0;34m]\u001b[0m\u001b[0;34m,\u001b[0m\u001b[0;34m\u001b[0m\u001b[0;34m\u001b[0m\u001b[0m\n",
                        "\u001b[0;31mNameError\u001b[0m: name 'folium' is not defined"
                    ]
                }
            ],
            "source": "venues_map = folium.Map(location=[latitude, longitude], zoom_start=13) # generate map centred around the Conrad Hotel\n\n# add a red circle marker to represent the Conrad Hotel\nfolium.features.CircleMarker(\n    [latitude, longitude],\n    radius=10,\n    color='red',\n    popup='Conrad Hotel',\n    fill = True,\n    fill_color = 'red',\n    fill_opacity = 0.6\n).add_to(venues_map)\n\n# add the Italian restaurants as blue circle markers\nfor lat, lng, label in zip(dataframe_filtered.lat, dataframe_filtered.lng, dataframe_filtered.categories):\n    folium.features.CircleMarker(\n        [lat, lng],\n        radius=5,\n        color='blue',\n        popup=label,\n        fill = True,\n        fill_color='blue',\n        fill_opacity=0.6\n    ).add_to(venues_map)\n\n# display map\nvenues_map"
        },
        {
            "cell_type": "code",
            "execution_count": null,
            "metadata": {},
            "outputs": [],
            "source": ""
        }
    ],
    "metadata": {
        "kernelspec": {
            "display_name": "Python 3.6",
            "language": "python",
            "name": "python3"
        },
        "language_info": {
            "codemirror_mode": {
                "name": "ipython",
                "version": 3
            },
            "file_extension": ".py",
            "mimetype": "text/x-python",
            "name": "python",
            "nbconvert_exporter": "python",
            "pygments_lexer": "ipython3",
            "version": "3.6.9"
        }
    },
    "nbformat": 4,
    "nbformat_minor": 1
}